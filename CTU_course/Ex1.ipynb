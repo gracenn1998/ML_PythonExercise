{
 "cells": [
  {
   "cell_type": "code",
   "execution_count": 1,
   "id": "personalized-tours",
   "metadata": {},
   "outputs": [],
   "source": [
    "import numpy as np"
   ]
  },
  {
   "cell_type": "code",
   "execution_count": 2,
   "id": "typical-chinese",
   "metadata": {},
   "outputs": [],
   "source": [
    "def distance_of_2_examples(u, v, p):\n",
    "    d_power = np.power(np.subtract(u, v), p)\n",
    "    distance = np.power(np.sum(d_power, axis=0), 1/p)\n",
    "    return distance"
   ]
  },
  {
   "cell_type": "code",
   "execution_count": 3,
   "id": "living-career",
   "metadata": {},
   "outputs": [],
   "source": [
    "def distance_of_1set_1ex(set1, ex, p):\n",
    "    m = set1.shape[0]\n",
    "    d_set = np.zeros((m, 1))\n",
    "    for i in range(m):\n",
    "        d_set[i] = distance_of_2_examples(set1[i], ex, p)\n",
    "    d_set.reshape(m, 1)\n",
    "    return d_set"
   ]
  },
  {
   "cell_type": "code",
   "execution_count": 4,
   "id": "informational-found",
   "metadata": {},
   "outputs": [],
   "source": [
    "#read dataset\n",
    "def load_dataset():\n",
    "    dims = 4\n",
    "    classes = 3\n",
    "        \n",
    "    train_set = np.loadtxt('iris.trn', delimiter=',')\n",
    "    test_set = np.loadtxt('iris.tst', delimiter=',')\n",
    "    train_x = train_set[:, :4]\n",
    "    train_y = train_set[:, -1:]\n",
    "    test_x = test_set[:, :4]\n",
    "    test_y = test_set[:, -1:]\n",
    "    \n",
    "    return train_x, train_y, test_x, test_y, classes"
   ]
  },
  {
   "cell_type": "code",
   "execution_count": 5,
   "id": "forced-atmosphere",
   "metadata": {},
   "outputs": [],
   "source": [
    "def top_k_idx(arr, k):\n",
    "    return np.argpartition(arr, -k)[-k:]"
   ]
  },
  {
   "cell_type": "code",
   "execution_count": 6,
   "id": "cubic-disorder",
   "metadata": {},
   "outputs": [],
   "source": [
    "def kNN(train_x, train_y, test_x, class_num, distance_p, k):\n",
    "    m_train = train_x.shape[0]\n",
    "    m_test = test_x.shape[0]\n",
    "    d_set = np.zeros((m_test, m_train))\n",
    "    d_set_top_k_idx = np.zeros((m_test, k), dtype=int)\n",
    "    class_of_top_knn = np.zeros((m_test, k), dtype=int)\n",
    "    class_occurence = np.zeros((m_test, class_num), dtype=int) #o[i][j]: occurence of class j in ith example\n",
    "    predict = np.zeros((m_test, 1), dtype=int)\n",
    "    \n",
    "    #get top k classes\n",
    "    for i in range(m_test):\n",
    "        #get distance of example ith in test compare to examples in train\n",
    "        #each row is a list of distance compare to each example in train\n",
    "        d_set[i] = distance_of_1set_1ex(train_x, test_x[i], distance_p).reshape(1,-1)\n",
    "        \n",
    "        #sort to get k min distance\n",
    "        #idx = np.argpartition(x, -k)[-k:]  # Indices of top k max, idx not sorted\n",
    "        d_set_top_k_idx[i] = np.argpartition(d_set[i], k)[:k]\n",
    "        d_set_top_k_idx[i] = d_set_top_k_idx[i]\n",
    "        \n",
    "        #get ith example's class list of top knn\n",
    "        class_of_top_knn[i] = train_y[d_set_top_k_idx[i]].reshape(1,-1)\n",
    "        \n",
    "        #get class with highest occurence = predict result\n",
    "        for j in range(class_num):\n",
    "            class_occurence[i][j] = np.sum(class_of_top_knn[i]==j)\n",
    "        \n",
    "        #predicted class is the class with hight occurence\n",
    "        predict[i] = np.where(class_occurence[i]==np.max(class_occurence[i]))\n",
    "    return predict\n",
    "        \n",
    "    "
   ]
  },
  {
   "cell_type": "code",
   "execution_count": 13,
   "id": "polish-buffer",
   "metadata": {},
   "outputs": [],
   "source": [
    "train_x, train_y, test_x, test_y, classes = load_dataset()\n",
    "predict = kNN(train_x, train_y, test_x, classes, 2, 1)"
   ]
  },
  {
   "cell_type": "code",
   "execution_count": 14,
   "id": "prime-accountability",
   "metadata": {},
   "outputs": [
    {
     "name": "stdout",
     "output_type": "stream",
     "text": [
      "94.0\n"
     ]
    }
   ],
   "source": [
    "#accuracy\n",
    "isCorrect = test_y == predict\n",
    "correct_cnt = np.count_nonzero(isCorrect==True)\n",
    "total_cnt = isCorrect.shape[0]\n",
    "acc = correct_cnt/total_cnt*100\n",
    "print(acc)"
   ]
  },
  {
   "cell_type": "code",
   "execution_count": 9,
   "id": "robust-little",
   "metadata": {},
   "outputs": [
    {
     "name": "stdout",
     "output_type": "stream",
     "text": [
      "[1 2 3 4 5 5]\n",
      "[2 1 3]\n",
      "[0. 1. 1. 1. 1. 2.]\n",
      "2.0\n"
     ]
    }
   ],
   "source": [
    "#testing cell, meaningless\n",
    "arr = np.array([1, 2, 3, 4, 5, 5])\n",
    "print(arr)\n",
    "idx = np.argpartition(arr, 3)[:3]\n",
    "print(arr[idx])\n",
    "o = np.zeros((1, 6))\n",
    "for i in range(6):\n",
    "    o[0][i] = np.sum(arr==i)\n",
    "print(o[0])\n",
    "predict = np.max(o[0])\n",
    "print(predict)"
   ]
  },
  {
   "cell_type": "code",
   "execution_count": 17,
   "id": "selective-disabled",
   "metadata": {},
   "outputs": [
    {
     "name": "stdout",
     "output_type": "stream",
     "text": [
      "[[1]\n",
      " [1]\n",
      " [0]\n",
      " [0]]\n"
     ]
    }
   ],
   "source": [
    "#ex1\n",
    "train_x = np.array([[0.376000, 0.488000],\n",
    "                  [0.312000, 0.544000],\n",
    "                  [0.298000, 0.624000],\n",
    "                  [0.394000, 0.600000],\n",
    "                  [0.506000, 0.512000],\n",
    "                  [0.488000, 0.334000],\n",
    "                  [0.478000, 0.398000],\n",
    "                  [0.606000, 0.366000],\n",
    "                  [0.428000, 0.294000],\n",
    "                  [0.542000, 0.252000]]\n",
    "                  )\n",
    "train_y = np.array([[0], [0], [0], [0], [0], [1], [1], [1], [1], [1]])\n",
    "\n",
    "test_x = np.array([[0.550000, 0.364000],\n",
    "                  [0.558000, 0.470000],\n",
    "                  [0.456000, 0.450000],\n",
    "                  [0.450000, 0.570000]]\n",
    "                  )\n",
    "#1.\n",
    "# print(distance_of_1set_1ex(train_x, test_x[0], 2))\n",
    "# print(distance_of_1set_1ex(train_x, test_x[1], 2))\n",
    "# print(distance_of_1set_1ex(train_x, test_x[2], 2))\n",
    "# print(distance_of_1set_1ex(train_x, test_x[3], 2))\n",
    "predict = kNN(train_x, train_y, test_x, 2, 2, 3)\n",
    "print(predict)"
   ]
  },
  {
   "cell_type": "code",
   "execution_count": null,
   "id": "posted-conference",
   "metadata": {},
   "outputs": [],
   "source": []
  }
 ],
 "metadata": {
  "kernelspec": {
   "display_name": "Python 3",
   "language": "python",
   "name": "python3"
  },
  "language_info": {
   "codemirror_mode": {
    "name": "ipython",
    "version": 3
   },
   "file_extension": ".py",
   "mimetype": "text/x-python",
   "name": "python",
   "nbconvert_exporter": "python",
   "pygments_lexer": "ipython3",
   "version": "3.8.2"
  }
 },
 "nbformat": 4,
 "nbformat_minor": 5
}
