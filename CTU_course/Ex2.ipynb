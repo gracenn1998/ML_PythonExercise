{
 "cells": [
  {
   "cell_type": "code",
   "execution_count": 7,
   "id": "stretch-swiss",
   "metadata": {},
   "outputs": [],
   "source": [
    "import numpy as np\n",
    "import pandas as pd\n",
    "from sklearn.naive_bayes import GaussianNB\n",
    "from sklearn.metrics import accuracy_score\n",
    "from sklearn.metrics import confusion_matrix\n",
    "from sklearn.preprocessing import normalize\n",
    "\n",
    "import warnings\n",
    "warnings.filterwarnings(\"ignore\")"
   ]
  },
  {
   "cell_type": "code",
   "execution_count": 2,
   "id": "tamil-strand",
   "metadata": {},
   "outputs": [],
   "source": [
    "#read dataset\n",
    "def load_dataset(train_set_file_name, test_set_file_name):\n",
    "        \n",
    "    train_set = np.loadtxt(train_set_file_name, delimiter=',')\n",
    "    test_set = np.loadtxt( test_set_file_name, delimiter=',')\n",
    "    \n",
    "    dims = np.size(train_set, 1) - 1 #number of col - 1 = dim, last col is class label\n",
    "    max_class = int(np.amax(train_set[:, dims])) #max value of label\n",
    "   \n",
    "    train_x = train_set[:, :dims]\n",
    "    train_y = train_set[:, -1:]\n",
    "    test_x = test_set[:, :dims]\n",
    "    test_y = test_set[:, -1:]\n",
    "        \n",
    "    return train_x, train_y, test_x, test_y, max_class"
   ]
  },
  {
   "cell_type": "code",
   "execution_count": 15,
   "id": "treated-bridal",
   "metadata": {},
   "outputs": [],
   "source": [
    "def naive_bayes(train_set_file_name, test_set_file_name):\n",
    "    #get dataset\n",
    "    train_x, train_y, test_x, test_y, max_class = load_dataset(train_set_file_name, test_set_file_name)\n",
    "    \n",
    "    #get numbers of examples in train & test\n",
    "    m_train = train_x.shape[0]\n",
    "    m_test = test_x.shape[0]\n",
    "    \n",
    "    #normalization\n",
    "    train_x_normalized = normalize(train_x)\n",
    "    test_x_normalized = normalize(test_x)\n",
    "\n",
    "\n",
    "    nb = GaussianNB()\n",
    "    nb.fit( train_x_normalized, train_y)\n",
    "    predict = nb.predict(test_x_normalized)\n",
    "    \n",
    "    acc = accuracy_score(test_y, predict)\n",
    "    confusion_arr = confusion_matrix(predict, test_y)\n",
    "    print(\"Accuracy: \" + str(acc*100) + \"%\")\n",
    "    \n",
    "    print(\"Confusion matrix (col header is actual val, row header is predicted val): \")\n",
    "    label_list = [str(i) for i in range(max_class+1)]\n",
    "    df = pd.DataFrame.from_records(data=confusion_arr, index=label_list)\n",
    "    print(df)\n",
    "    \n",
    "    return predict, acc, confusion_arr"
   ]
  },
  {
   "cell_type": "code",
   "execution_count": 16,
   "id": "improving-naples",
   "metadata": {},
   "outputs": [
    {
     "name": "stdout",
     "output_type": "stream",
     "text": [
      "Accuracy: 96.0%\n",
      "Confusion matrix (col header is actual val, row header is predicted val): \n",
      "    0   1   2\n",
      "0  17   0   0\n",
      "1   0  14   1\n",
      "2   0   1  17\n",
      "==============\n",
      "Accuracy: 91.17647058823529%\n",
      "Confusion matrix (col header is actual val, row header is predicted val): \n",
      "    0   1\n",
      "0  13   2\n",
      "1   1  18\n"
     ]
    }
   ],
   "source": [
    "predict = {}\n",
    "predict[\"iris\"] = naive_bayes('dataset/iris.trn', 'dataset/iris.tst')\n",
    "# print(\"==============\")\n",
    "# predict[\"fp\"] = naive_bayes('dataset/fp.trn', 'dataset/fp.tst')\n",
    "# print(\"==============\")\n",
    "# predict[\"letter\"]= naive_bayes('dataset/let.trn', 'dataset/let.tst')\n",
    "# print(\"==============\")\n",
    "# predict[\"optics\"]= naive_bayes('dataset/opt.trn', 'dataset/opt.tst')\n",
    "print(\"==============\")\n",
    "predict[\"leukemia\"]= naive_bayes('dataset/ALLAML.trn', 'dataset/ALLAML.tst')"
   ]
  },
  {
   "cell_type": "code",
   "execution_count": null,
   "id": "naughty-delhi",
   "metadata": {},
   "outputs": [],
   "source": []
  }
 ],
 "metadata": {
  "kernelspec": {
   "display_name": "Python 3",
   "language": "python",
   "name": "python3"
  },
  "language_info": {
   "codemirror_mode": {
    "name": "ipython",
    "version": 3
   },
   "file_extension": ".py",
   "mimetype": "text/x-python",
   "name": "python",
   "nbconvert_exporter": "python",
   "pygments_lexer": "ipython3",
   "version": "3.8.2"
  }
 },
 "nbformat": 4,
 "nbformat_minor": 5
}
